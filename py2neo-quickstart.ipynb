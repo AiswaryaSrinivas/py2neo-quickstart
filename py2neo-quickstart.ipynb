{
 "cells": [
  {
   "cell_type": "code",
   "execution_count": null,
   "metadata": {},
   "outputs": [],
   "source": [
    "from py2neo import Node, Relationship"
   ]
  },
  {
   "cell_type": "code",
   "execution_count": null,
   "metadata": {},
   "outputs": [],
   "source": [
    "from py2neo import Graph\n",
    "\n",
    "graph = Graph(\"bolt://localhost:7687\", password='')\n",
    "\n",
    "# Nodes\n",
    "TheMatrix = Node(\"Movie\", title='The Matrix', released=1999,\n",
    "                 tagline='Welcome to the Real World')\n",
    "Keanu = Node(\"Person\", name='Keanu Reeves', born=1964)\n",
    "Carrie = Node(\"Person\", name='Carrie-Anne Moss', born=1967)\n",
    "Laurence = Node(\"Person\", name='Laurence Fishburne', born=1961)\n",
    "Hugo = Node(\"Person\", name='Hugo Weaving', born=1960)\n",
    "LillyW = Node(\"Person\", name='Lilly Wachowski', born=1967)\n",
    "LanaW = Node(\"Person\", name='Lana Wachowski', born=1965)\n",
    "JoelS = Node(\"Person\", name='Joel Silver', born=1952)\n",
    "Emil = Node(\"Person\", name=\"Emil Eifrem\", born=1978)\n",
    "\n",
    "# Relationships\n",
    "LillyWTheMatrix = Relationship(LillyW, \"DIRECTED\", TheMatrix)\n",
    "LanaWTheMatrix = Relationship(LanaW, \"DIRECTED\", TheMatrix)\n",
    "JoelSTheMatrix = Relationship(JoelS, \"PRODUCED\", TheMatrix)\n",
    "KeanuTheMatrix = Relationship(Keanu, \"ACTED_IN\", TheMatrix)\n",
    "KeanuTheMatrix['roles'] = ['Neo']\n",
    "CarrieTheMatrix = Relationship(Carrie, \"ACTED_IN\", TheMatrix)\n",
    "CarrieTheMatrix['roles'] = ['Trinity']\n",
    "LaurenceTheMatrix = Relationship(Laurence, \"ACTED_IN\", TheMatrix)\n",
    "LaurenceTheMatrix['roles'] = ['Morpheus']\n",
    "HugoTheMatrix = Relationship(Hugo, \"ACTED_IN\", TheMatrix)\n",
    "HugoTheMatrix['roles'] = ['Agent Smith']\n",
    "EmilTheMatrix = Relationship(Emil, \"ACTED_IN\", TheMatrix)\n",
    "EmilTheMatrix['roles'] = ['Emil']\n",
    "\n",
    "tx = graph.begin()\n",
    "tx.create(TheMatrix)\n",
    "tx.create(Keanu)\n",
    "tx.create(Carrie)\n",
    "tx.create(Laurence)\n",
    "tx.create(Hugo)\n",
    "tx.create(LillyW)\n",
    "tx.create(LanaW)\n",
    "tx.create(JoelS)\n",
    "tx.create(Emil)\n",
    "tx.create(KeanuTheMatrix)\n",
    "tx.create(CarrieTheMatrix)\n",
    "tx.create(LaurenceTheMatrix)\n",
    "tx.create(HugoTheMatrix)\n",
    "tx.create(LillyWTheMatrix)\n",
    "tx.create(LanaWTheMatrix)\n",
    "tx.create(JoelSTheMatrix)\n",
    "tx.create(EmilTheMatrix)\n",
    "tx.commit()"
   ]
  },
  {
   "cell_type": "code",
   "execution_count": null,
   "metadata": {},
   "outputs": [],
   "source": []
  }
 ],
 "metadata": {
  "kernelspec": {
   "display_name": "Python 3",
   "language": "python",
   "name": "python3"
  },
  "language_info": {
   "codemirror_mode": {
    "name": "ipython",
    "version": 3
   },
   "file_extension": ".py",
   "mimetype": "text/x-python",
   "name": "python",
   "nbconvert_exporter": "python",
   "pygments_lexer": "ipython3",
   "version": "3.7.5"
  }
 },
 "nbformat": 4,
 "nbformat_minor": 2
}
