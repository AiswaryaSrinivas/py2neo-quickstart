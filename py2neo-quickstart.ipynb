{
 "cells": [
  {
   "cell_type": "code",
   "execution_count": null,
   "metadata": {},
   "outputs": [],
   "source": [
    "import py2neo\n",
    "py2neo.__version__"
   ]
  },
  {
   "cell_type": "markdown",
   "metadata": {},
   "source": [
    "## Create"
   ]
  },
  {
   "cell_type": "markdown",
   "metadata": {},
   "source": [
    "### Step 0: Connect to Graph using Py2Neo"
   ]
  },
  {
   "cell_type": "code",
   "execution_count": null,
   "metadata": {},
   "outputs": [],
   "source": [
    "from py2neo import Graph\n",
    "graph = Graph(\"bolt://localhost:11003\", password='1234')"
   ]
  },
  {
   "cell_type": "markdown",
   "metadata": {},
   "source": [
    "### Step 1: Create Node and Relationship Subgraphs using Py2Neo\n",
    "\n",
    "This is just a sample -- the full dataset is quite long and would be silly to keep here ([full create data](py2neo-movie-graph-data.ipynb)), it's at the end of this notebook. It'll be necessary to have all the data to run some of the examples.\n",
    "\n",
    "[Full Create](py2neo-movie-graph-data.ipynb)"
   ]
  },
  {
   "cell_type": "code",
   "execution_count": null,
   "metadata": {
    "scrolled": true
   },
   "outputs": [],
   "source": [
    "from py2neo import Node, Relationship\n",
    "\n",
    "# Nodes\n",
    "TheMatrix = Node(\"Movie\", title='The Matrix', released=1999, tagline='Welcome to the Real World')\n",
    "Keanu = Node(\"Person\", name='Keanu Reeves', born=1964)\n",
    "Carrie = Node(\"Person\", name='Carrie-Anne Moss', born=1967)\n",
    "Laurence = Node(\"Person\", name='Laurence Fishburne', born=1961)\n",
    "Hugo = Node(\"Person\", name='Hugo Weaving', born=1960)\n",
    "LillyW = Node(\"Person\", name='Lilly Wachowski', born=1967)\n",
    "LanaW = Node(\"Person\", name='Lana Wachowski', born=1965)\n",
    "JoelS = Node(\"Person\", name='Joel Silver', born=1952)\n",
    "Emil = Node(\"Person\", name=\"Emil Eifrem\", born=1978)\n",
    "\n",
    "# Relationships\n",
    "LillyWTheMatrix = Relationship(LillyW, \"DIRECTED\", TheMatrix)\n",
    "LanaWTheMatrix = Relationship(LanaW, \"DIRECTED\", TheMatrix)\n",
    "JoelSTheMatrix = Relationship(JoelS, \"PRODUCED\", TheMatrix)\n",
    "KeanuTheMatrix = Relationship(Keanu, \"ACTED_IN\", TheMatrix)\n",
    "KeanuTheMatrix['roles'] = ['Neo']\n",
    "CarrieTheMatrix = Relationship(Carrie, \"ACTED_IN\", TheMatrix)\n",
    "CarrieTheMatrix['roles'] = ['Trinity']\n",
    "LaurenceTheMatrix = Relationship(Laurence, \"ACTED_IN\", TheMatrix)\n",
    "LaurenceTheMatrix['roles'] = ['Morpheus']\n",
    "HugoTheMatrix = Relationship(Hugo, \"ACTED_IN\", TheMatrix)\n",
    "HugoTheMatrix['roles'] = ['Agent Smith']\n",
    "EmilTheMatrix = Relationship(Emil, \"ACTED_IN\", TheMatrix)\n",
    "EmilTheMatrix['roles'] = ['Emil']"
   ]
  },
  {
   "cell_type": "markdown",
   "metadata": {},
   "source": [
    "### Step 2: Commit using Py2Neo"
   ]
  },
  {
   "cell_type": "code",
   "execution_count": null,
   "metadata": {},
   "outputs": [],
   "source": [
    "tx = graph.begin()\n",
    "tx.create(TheMatrix)\n",
    "tx.create(Keanu)\n",
    "tx.create(Carrie)\n",
    "tx.create(Laurence)\n",
    "tx.create(Hugo)\n",
    "tx.create(LillyW)\n",
    "tx.create(LanaW)\n",
    "tx.create(JoelS)\n",
    "tx.create(Emil)\n",
    "tx.create(KeanuTheMatrix)\n",
    "tx.create(CarrieTheMatrix)\n",
    "tx.create(LaurenceTheMatrix)\n",
    "tx.create(HugoTheMatrix)\n",
    "tx.create(LillyWTheMatrix)\n",
    "tx.create(LanaWTheMatrix)\n",
    "tx.create(JoelSTheMatrix)\n",
    "tx.create(EmilTheMatrix)\n",
    "# tx.commit()"
   ]
  },
  {
   "cell_type": "markdown",
   "metadata": {},
   "source": [
    "## Find"
   ]
  },
  {
   "cell_type": "code",
   "execution_count": null,
   "metadata": {},
   "outputs": [],
   "source": [
    "from py2neo.matching import NodeMatcher\n",
    "node_matcher = NodeMatcher(graph)\n",
    "keanu = node_matcher.match(\"Person\", name=\"Keanu Reeves\").first()\n",
    "keanu"
   ]
  },
  {
   "cell_type": "markdown",
   "metadata": {},
   "source": [
    "Demo based on: [docs](<https://py2neo.org/v5/database.html#py2neo.database.Graph.nodes)"
   ]
  },
  {
   "cell_type": "code",
   "execution_count": null,
   "metadata": {},
   "outputs": [],
   "source": [
    "keanu0 = graph.nodes[1]\n",
    "keanu1 = graph.nodes.get(1)\n",
    "keanu2 = graph.nodes.match(\"Person\", name=\"Keanu Reeves\").first()\n",
    "    \n",
    "assert(keanu0 == keanu1 == keanu2)\n",
    "keanu0 == keanu1 == keanu2"
   ]
  },
  {
   "cell_type": "code",
   "execution_count": null,
   "metadata": {},
   "outputs": [],
   "source": [
    "match_using_matcher = node_matcher.match(name=\"Keanu Reeves\").first()\n",
    "match_using_graphnodes = graph.nodes.match(name=\"Keanu Reeves\").first()\n",
    "\n",
    "assert match_using_matcher == match_using_graphnodes\n",
    "match_using_matcher == match_using_graphnodes"
   ]
  },
  {
   "cell_type": "code",
   "execution_count": null,
   "metadata": {},
   "outputs": [],
   "source": [
    "len(graph.nodes.match(\"Person\"))"
   ]
  },
  {
   "cell_type": "markdown",
   "metadata": {},
   "source": [
    "#### Find the actor named \"Tom Hanks\"..."
   ]
  },
  {
   "cell_type": "code",
   "execution_count": null,
   "metadata": {},
   "outputs": [],
   "source": [
    "node_matcher.match(name=\"Tom Hanks\").first()"
   ]
  },
  {
   "cell_type": "code",
   "execution_count": null,
   "metadata": {},
   "outputs": [],
   "source": [
    "graph.nodes.match(name=\"Tom Hanks\").first()"
   ]
  },
  {
   "cell_type": "markdown",
   "metadata": {},
   "source": [
    "#### Find the movie with title \"Cloud Atlas\"..."
   ]
  },
  {
   "cell_type": "code",
   "execution_count": null,
   "metadata": {},
   "outputs": [],
   "source": [
    "node_matcher.match(title=\"Cloud Atlas\").first()"
   ]
  },
  {
   "cell_type": "code",
   "execution_count": null,
   "metadata": {},
   "outputs": [],
   "source": [
    "graph.nodes.match(title=\"Cloud Atlas\").first()"
   ]
  },
  {
   "cell_type": "markdown",
   "metadata": {},
   "source": [
    "#### Find 10 people..."
   ]
  },
  {
   "cell_type": "code",
   "execution_count": null,
   "metadata": {},
   "outputs": [],
   "source": [
    "node_matcher.match(\"Person\").limit(10).all()"
   ]
  },
  {
   "cell_type": "code",
   "execution_count": null,
   "metadata": {},
   "outputs": [],
   "source": [
    "graph.nodes.match(\"Person\").limit(10).all()"
   ]
  },
  {
   "cell_type": "markdown",
   "metadata": {},
   "source": [
    "#### Find movies released in the 1990s..."
   ]
  },
  {
   "cell_type": "code",
   "execution_count": null,
   "metadata": {},
   "outputs": [],
   "source": [
    "graph.nodes.match(\"Movie\").where('_.released >= 1990', '_.released < 2000').all()"
   ]
  },
  {
   "cell_type": "code",
   "execution_count": null,
   "metadata": {},
   "outputs": [],
   "source": [
    "node_matcher.match(\"Movie\").where('_.released >= 1990', '_.released < 2000').all()"
   ]
  },
  {
   "cell_type": "markdown",
   "metadata": {},
   "source": [
    "### Query"
   ]
  },
  {
   "cell_type": "markdown",
   "metadata": {},
   "source": [
    "#### List all Tom Hanks movies..."
   ]
  },
  {
   "cell_type": "code",
   "execution_count": null,
   "metadata": {},
   "outputs": [],
   "source": [
    "tom = graph.nodes.match(name=\"Tom Hanks\").first()\n",
    "graph.match(nodes=[tom], r_type=\"ACTED_IN\").all()"
   ]
  },
  {
   "cell_type": "code",
   "execution_count": null,
   "metadata": {},
   "outputs": [],
   "source": [
    "graph.relationships.match(nodes=[tom], r_type=\"ACTED_IN\").all()"
   ]
  },
  {
   "cell_type": "markdown",
   "metadata": {},
   "source": [
    "#### Who directed \"Cloud Atlas\"?"
   ]
  },
  {
   "cell_type": "code",
   "execution_count": null,
   "metadata": {},
   "outputs": [],
   "source": [
    "results = graph.run('MATCH (cloudAtlas {title: \"Cloud Atlas\"})<-[:DIRECTED]-(directors) RETURN directors.name').data()\n",
    "results"
   ]
  },
  {
   "cell_type": "code",
   "execution_count": null,
   "metadata": {},
   "outputs": [],
   "source": [
    "results = graph.run('MATCH (cloudAtlas {title: \"Cloud Atlas\"})<-[:DIRECTED]-(directors) RETURN directors.name')\n",
    "results.data()"
   ]
  },
  {
   "cell_type": "code",
   "execution_count": null,
   "metadata": {},
   "outputs": [],
   "source": [
    "cloudAtlas = graph.nodes.match(title=\"Cloud Atlas\").first()\n",
    "directors = graph.match(r_type=\"DIRECTED\", nodes=(None, cloudAtlas)) # << see notes about use of nodes=() here\n",
    "for director in directors:\n",
    "    print(director.nodes[0]['name'])"
   ]
  },
  {
   "cell_type": "markdown",
   "metadata": {},
   "source": [
    "#### Tom Hanks' co-actors..."
   ]
  },
  {
   "cell_type": "code",
   "execution_count": null,
   "metadata": {},
   "outputs": [],
   "source": [
    "results = graph.run('MATCH (tom:Person {name:\"Tom Hanks\"})-[:ACTED_IN]->(m)<-[:ACTED_IN]-(coActors) RETURN coActors.name').data()\n",
    "results"
   ]
  },
  {
   "cell_type": "code",
   "execution_count": null,
   "metadata": {},
   "outputs": [],
   "source": [
    "results = graph.run('MATCH (tom:Person {name:\"Tom Hanks\"})-[:ACTED_IN]->(m)<-[:ACTED_IN]-(coActors) RETURN coActors.name')\n",
    "results.data()"
   ]
  },
  {
   "cell_type": "markdown",
   "metadata": {},
   "source": [
    "#### How people are related to \"Cloud Atlas\"..."
   ]
  },
  {
   "cell_type": "code",
   "execution_count": null,
   "metadata": {},
   "outputs": [
    {
     "data": {
      "text/html": [
       "<table><tr><th>people.name</th><th>Type(relatedTo)</th><th>relatedTo</th></tr><tr><td style=\"text-align:left\">Halle Berry</td><td style=\"text-align:left\">ACTED_IN</td><td style=\"text-align:left\">(Halle Berry)-[:ACTED_IN {roles: [&#039;Luisa Rey&#039;, &#039;Jocasta Ayrs&#039;, &#039;Ovid&#039;, &#039;Meronym&#039;]}]-&gt;(_64)</td></tr><tr><td style=\"text-align:left\">Stefan Arndt</td><td style=\"text-align:left\">PRODUCED</td><td style=\"text-align:left\">(Stefan Arndt)-[:PRODUCED {}]-&gt;(_64)</td></tr><tr><td style=\"text-align:left\">Hugo Weaving</td><td style=\"text-align:left\">ACTED_IN</td><td style=\"text-align:left\">(Hugo Weaving)-[:ACTED_IN {roles: [&#039;Bill Smoke&#039;, &#039;Haskell Moore&#039;, &#039;Tadeusz Kesselring&#039;, &#039;Nurse Noakes&#039;, &#039;Boardman Mephi&#039;, &#039;Old Georgie&#039;]}]-&gt;(_64)</td></tr><tr><td style=\"text-align:left\">Lilly Wachowski</td><td style=\"text-align:left\">DIRECTED</td><td style=\"text-align:left\">(Lilly Wachowski)-[:DIRECTED {}]-&gt;(_64)</td></tr><tr><td style=\"text-align:left\">Tom Tykwer</td><td style=\"text-align:left\">DIRECTED</td><td style=\"text-align:left\">(Tom Tykwer)-[:DIRECTED {}]-&gt;(_64)</td></tr><tr><td style=\"text-align:left\">Tom Hanks</td><td style=\"text-align:left\">ACTED_IN</td><td style=\"text-align:left\">(Tom Hanks)-[:ACTED_IN {roles: [&#039;Zachry&#039;, &#039;Dr. Henry Goose&#039;, &#039;Isaac Sachs&#039;, &#039;Dermot Hoggins&#039;]}]-&gt;(_64)</td></tr><tr><td style=\"text-align:left\">Jim Broadbent</td><td style=\"text-align:left\">ACTED_IN</td><td style=\"text-align:left\">(Jim Broadbent)-[:ACTED_IN {roles: [&#039;Vyvyan Ayrs&#039;, &#039;Captain Molyneux&#039;, &#039;Timothy Cavendish&#039;]}]-&gt;(_64)</td></tr><tr><td style=\"text-align:left\">Lana Wachowski</td><td style=\"text-align:left\">DIRECTED</td><td style=\"text-align:left\">(Lana Wachowski)-[:DIRECTED {}]-&gt;(_64)</td></tr><tr><td style=\"text-align:left\">David Mitchell</td><td style=\"text-align:left\">WROTE</td><td style=\"text-align:left\">(David Mitchell)-[:WROTE {}]-&gt;(_64)</td></tr></table>"
      ],
      "text/plain": [
       " people.name     | Type(relatedTo) | relatedTo                                                                                                                                         \n",
       "-----------------|-----------------|---------------------------------------------------------------------------------------------------------------------------------------------------\n",
       " Halle Berry     | ACTED_IN        | (Halle Berry)-[:ACTED_IN {roles: ['Luisa Rey', 'Jocasta Ayrs', 'Ovid', 'Meronym']}]->(_64)                                                        \n",
       " Stefan Arndt    | PRODUCED        | (Stefan Arndt)-[:PRODUCED {}]->(_64)                                                                                                              \n",
       " Hugo Weaving    | ACTED_IN        | (Hugo Weaving)-[:ACTED_IN {roles: ['Bill Smoke', 'Haskell Moore', 'Tadeusz Kesselring', 'Nurse Noakes', 'Boardman Mephi', 'Old Georgie']}]->(_64) \n",
       " Lilly Wachowski | DIRECTED        | (Lilly Wachowski)-[:DIRECTED {}]->(_64)                                                                                                           \n",
       " Tom Tykwer      | DIRECTED        | (Tom Tykwer)-[:DIRECTED {}]->(_64)                                                                                                                \n",
       " Tom Hanks       | ACTED_IN        | (Tom Hanks)-[:ACTED_IN {roles: ['Zachry', 'Dr. Henry Goose', 'Isaac Sachs', 'Dermot Hoggins']}]->(_64)                                            \n",
       " Jim Broadbent   | ACTED_IN        | (Jim Broadbent)-[:ACTED_IN {roles: ['Vyvyan Ayrs', 'Captain Molyneux', 'Timothy Cavendish']}]->(_64)                                              \n",
       " Lana Wachowski  | DIRECTED        | (Lana Wachowski)-[:DIRECTED {}]->(_64)                                                                                                            \n",
       " David Mitchell  | WROTE           | (David Mitchell)-[:WROTE {}]->(_64)                                                                                                               "
      ]
     },
     "metadata": {},
     "output_type": "execute_result"
    }
   ],
   "source": [
    "results = graph.run('MATCH (people:Person)-[relatedTo]-(:Movie {title: \"Cloud Atlas\"}) RETURN people.name, Type(relatedTo), relatedTo')\n",
    "results.to_table()"
   ]
  },
  {
   "cell_type": "code",
   "execution_count": null,
   "metadata": {},
   "outputs": [
    {
     "data": {
      "text/html": [
       "<div>\n",
       "<style scoped>\n",
       "    .dataframe tbody tr th:only-of-type {\n",
       "        vertical-align: middle;\n",
       "    }\n",
       "\n",
       "    .dataframe tbody tr th {\n",
       "        vertical-align: top;\n",
       "    }\n",
       "\n",
       "    .dataframe thead th {\n",
       "        text-align: right;\n",
       "    }\n",
       "</style>\n",
       "<table border=\"1\" class=\"dataframe\">\n",
       "  <thead>\n",
       "    <tr style=\"text-align: right;\">\n",
       "      <th></th>\n",
       "      <th>people.name</th>\n",
       "      <th>Type(relatedTo)</th>\n",
       "      <th>relatedTo</th>\n",
       "    </tr>\n",
       "  </thead>\n",
       "  <tbody>\n",
       "    <tr>\n",
       "      <th>0</th>\n",
       "      <td>Halle Berry</td>\n",
       "      <td>ACTED_IN</td>\n",
       "      <td>{'roles': ['Luisa Rey', 'Jocasta Ayrs', 'Ovid'...</td>\n",
       "    </tr>\n",
       "    <tr>\n",
       "      <th>1</th>\n",
       "      <td>Stefan Arndt</td>\n",
       "      <td>PRODUCED</td>\n",
       "      <td>{}</td>\n",
       "    </tr>\n",
       "    <tr>\n",
       "      <th>2</th>\n",
       "      <td>Hugo Weaving</td>\n",
       "      <td>ACTED_IN</td>\n",
       "      <td>{'roles': ['Bill Smoke', 'Haskell Moore', 'Tad...</td>\n",
       "    </tr>\n",
       "    <tr>\n",
       "      <th>3</th>\n",
       "      <td>Lilly Wachowski</td>\n",
       "      <td>DIRECTED</td>\n",
       "      <td>{}</td>\n",
       "    </tr>\n",
       "    <tr>\n",
       "      <th>4</th>\n",
       "      <td>Tom Tykwer</td>\n",
       "      <td>DIRECTED</td>\n",
       "      <td>{}</td>\n",
       "    </tr>\n",
       "    <tr>\n",
       "      <th>5</th>\n",
       "      <td>Tom Hanks</td>\n",
       "      <td>ACTED_IN</td>\n",
       "      <td>{'roles': ['Zachry', 'Dr. Henry Goose', 'Isaac...</td>\n",
       "    </tr>\n",
       "    <tr>\n",
       "      <th>6</th>\n",
       "      <td>Jim Broadbent</td>\n",
       "      <td>ACTED_IN</td>\n",
       "      <td>{'roles': ['Vyvyan Ayrs', 'Captain Molyneux', ...</td>\n",
       "    </tr>\n",
       "    <tr>\n",
       "      <th>7</th>\n",
       "      <td>Lana Wachowski</td>\n",
       "      <td>DIRECTED</td>\n",
       "      <td>{}</td>\n",
       "    </tr>\n",
       "    <tr>\n",
       "      <th>8</th>\n",
       "      <td>David Mitchell</td>\n",
       "      <td>WROTE</td>\n",
       "      <td>{}</td>\n",
       "    </tr>\n",
       "  </tbody>\n",
       "</table>\n",
       "</div>"
      ],
      "text/plain": [
       "       people.name Type(relatedTo)  \\\n",
       "0      Halle Berry        ACTED_IN   \n",
       "1     Stefan Arndt        PRODUCED   \n",
       "2     Hugo Weaving        ACTED_IN   \n",
       "3  Lilly Wachowski        DIRECTED   \n",
       "4       Tom Tykwer        DIRECTED   \n",
       "5        Tom Hanks        ACTED_IN   \n",
       "6    Jim Broadbent        ACTED_IN   \n",
       "7   Lana Wachowski        DIRECTED   \n",
       "8   David Mitchell           WROTE   \n",
       "\n",
       "                                           relatedTo  \n",
       "0  {'roles': ['Luisa Rey', 'Jocasta Ayrs', 'Ovid'...  \n",
       "1                                                 {}  \n",
       "2  {'roles': ['Bill Smoke', 'Haskell Moore', 'Tad...  \n",
       "3                                                 {}  \n",
       "4                                                 {}  \n",
       "5  {'roles': ['Zachry', 'Dr. Henry Goose', 'Isaac...  \n",
       "6  {'roles': ['Vyvyan Ayrs', 'Captain Molyneux', ...  \n",
       "7                                                 {}  \n",
       "8                                                 {}  "
      ]
     },
     "metadata": {},
     "output_type": "execute_result"
    }
   ],
   "source": [
    "results = graph.run('MATCH (people:Person)-[relatedTo]-(:Movie {title: \"Cloud Atlas\"}) RETURN people.name, Type(relatedTo), relatedTo')\n",
    "results.to_data_frame()"
   ]
  },
  {
   "cell_type": "code",
   "execution_count": null,
   "metadata": {},
   "outputs": [],
   "source": [
    "results = graph.run('MATCH (people:Person)-[relatedTo]-(:Movie {title: \"Cloud Atlas\"}) RETURN people.name, Type(relatedTo), relatedTo')\n",
    "results.to_series()"
   ]
  },
  {
   "cell_type": "markdown",
   "metadata": {},
   "source": [
    "#### Movies and actors up to 4 \"hops\" away from Kevin Bacon"
   ]
  },
  {
   "cell_type": "code",
   "execution_count": null,
   "metadata": {},
   "outputs": [],
   "source": [
    "results = graph.run('MATCH (bacon:Person {name:\"Kevin Bacon\"})-[*1..4]-(hollywood) RETURN DISTINCT hollywood')\n",
    "results.data()"
   ]
  },
  {
   "cell_type": "code",
   "execution_count": null,
   "metadata": {},
   "outputs": [],
   "source": [
    "results = graph.run('MATCH (bacon:Person {name:\"Kevin Bacon\"})-[*1..4]-(hollywood) RETURN DISTINCT hollywood')\n",
    "len(results.data())"
   ]
  },
  {
   "cell_type": "markdown",
   "metadata": {},
   "source": [
    "#### Bacon path, the shortest path of any relationships to Meg Ryan"
   ]
  },
  {
   "cell_type": "code",
   "execution_count": null,
   "metadata": {},
   "outputs": [],
   "source": [
    "results = graph.run('MATCH p=shortestPath((bacon:Person {name:\"Kevin Bacon\"})-[*]-(meg:Person {name:\"Meg Ryan\"})) RETURN p')\n",
    "results.data()"
   ]
  },
  {
   "cell_type": "markdown",
   "metadata": {},
   "source": [
    "### Recommend"
   ]
  },
  {
   "cell_type": "markdown",
   "metadata": {},
   "source": [
    "#### Extend Tom Hanks co-actors, to find co-co-actors who haven't worked with Tom Hanks..."
   ]
  },
  {
   "cell_type": "code",
   "execution_count": null,
   "metadata": {},
   "outputs": [],
   "source": [
    "results = graph.run('MATCH (tom:Person {name:\"Tom Hanks\"})-[:ACTED_IN]->(m)<-[:ACTED_IN]-(coActors), (coActors)-[:ACTED_IN]->(m2)<-[:ACTED_IN]-(cocoActors) WHERE NOT (tom)-[:ACTED_IN]->()<-[:ACTED_IN]-(cocoActors) AND tom <> cocoActors RETURN cocoActors.name AS Recommended, count(*) AS Strength ORDER BY Strength DESC')\n",
    "results.data()"
   ]
  },
  {
   "cell_type": "markdown",
   "metadata": {},
   "source": [
    "#### Find someone to introduce Tom Hanks to Tom Cruise"
   ]
  },
  {
   "cell_type": "code",
   "execution_count": null,
   "metadata": {},
   "outputs": [],
   "source": [
    "results = graph.run('MATCH (tom:Person {name:\"Tom Hanks\"})-[:ACTED_IN]->(m)<-[:ACTED_IN]-(coActors), (coActors)-[:ACTED_IN]->(m2)<-[:ACTED_IN]-(cruise:Person {name:\"Tom Cruise\"}) RETURN tom, m, coActors, m2, cruise')\n",
    "results.data()"
   ]
  },
  {
   "cell_type": "code",
   "execution_count": null,
   "metadata": {},
   "outputs": [],
   "source": [
    "graph.delete_all()"
   ]
  },
  {
   "cell_type": "code",
   "execution_count": null,
   "metadata": {},
   "outputs": [],
   "source": [
    "len(graph.match())"
   ]
  },
  {
   "cell_type": "code",
   "execution_count": null,
   "metadata": {},
   "outputs": [],
   "source": [
    "graph.match().all()"
   ]
  }
 ],
 "metadata": {
  "kernelspec": {
   "display_name": "Python 3",
   "language": "python",
   "name": "python3"
  },
  "language_info": {
   "codemirror_mode": {
    "name": "ipython",
    "version": 3
   },
   "file_extension": ".py",
   "mimetype": "text/x-python",
   "name": "python",
   "nbconvert_exporter": "python",
   "pygments_lexer": "ipython3",
   "version": "3.7.5"
  }
 },
 "nbformat": 4,
 "nbformat_minor": 2
}
