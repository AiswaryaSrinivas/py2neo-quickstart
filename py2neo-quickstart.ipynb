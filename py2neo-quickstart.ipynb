{
 "cells": [
  {
   "cell_type": "code",
   "execution_count": null,
   "metadata": {},
   "outputs": [
    {
     "data": {
      "text/plain": [
       "'5.0b1'"
      ]
     },
     "metadata": {},
     "output_type": "execute_result"
    }
   ],
   "source": [
    "import py2neo\n",
    "py2neo.__version__"
   ]
  },
  {
   "cell_type": "markdown",
   "metadata": {},
   "source": [
    "## Create"
   ]
  },
  {
   "cell_type": "markdown",
   "metadata": {},
   "source": [
    "### Step 0: Connect to Graph using Py2Neo"
   ]
  },
  {
   "cell_type": "code",
   "execution_count": null,
   "metadata": {},
   "outputs": [],
   "source": [
    "from py2neo import Graph\n",
    "graph = Graph(\"bolt://localhost:11003\", password='1234')"
   ]
  },
  {
   "cell_type": "markdown",
   "metadata": {},
   "source": [
    "### Step 1: Create Node and Relationship Subgraphs using Py2Neo\n",
    "\n",
    "This is just a sample -- the full dataset is quite long and would be silly to keep here ([jump](#Full-Movie-Graph-Create)), it's at the end of this notebook. It'll be necessary to have all the data to run some of the examples.\n",
    "\n",
    "[Full Create](#Full-Movie-Graph-Create)"
   ]
  },
  {
   "cell_type": "code",
   "metadata": {},
   "outputs": [],
   "source": []
  },
  {
   "cell_type": "code",
   "metadata": {
    "scrolled": true
   },
   "outputs": [],
   "source": [
    "from py2neo import Node, Relationship\n",
    "\n",
    "# Nodes\n",
    "TheMatrix = Node(\"Movie\", title='The Matrix', released=1999, tagline='Welcome to the Real World')\n",
    "Keanu = Node(\"Person\", name='Keanu Reeves', born=1964)\n",
    "Carrie = Node(\"Person\", name='Carrie-Anne Moss', born=1967)\n",
    "Laurence = Node(\"Person\", name='Laurence Fishburne', born=1961)\n",
    "Hugo = Node(\"Person\", name='Hugo Weaving', born=1960)\n",
    "LillyW = Node(\"Person\", name='Lilly Wachowski', born=1967)\n",
    "LanaW = Node(\"Person\", name='Lana Wachowski', born=1965)\n",
    "JoelS = Node(\"Person\", name='Joel Silver', born=1952)\n",
    "Emil = Node(\"Person\", name=\"Emil Eifrem\", born=1978)\n",
    "\n",
    "# Relationships\n",
    "LillyWTheMatrix = Relationship(LillyW, \"DIRECTED\", TheMatrix)\n",
    "LanaWTheMatrix = Relationship(LanaW, \"DIRECTED\", TheMatrix)\n",
    "JoelSTheMatrix = Relationship(JoelS, \"PRODUCED\", TheMatrix)\n",
    "KeanuTheMatrix = Relationship(Keanu, \"ACTED_IN\", TheMatrix)\n",
    "KeanuTheMatrix['roles'] = ['Neo']\n",
    "CarrieTheMatrix = Relationship(Carrie, \"ACTED_IN\", TheMatrix)\n",
    "CarrieTheMatrix['roles'] = ['Trinity']\n",
    "LaurenceTheMatrix = Relationship(Laurence, \"ACTED_IN\", TheMatrix)\n",
    "LaurenceTheMatrix['roles'] = ['Morpheus']\n",
    "HugoTheMatrix = Relationship(Hugo, \"ACTED_IN\", TheMatrix)\n",
    "HugoTheMatrix['roles'] = ['Agent Smith']\n",
    "EmilTheMatrix = Relationship(Emil, \"ACTED_IN\", TheMatrix)\n",
    "EmilTheMatrix['roles'] = ['Emil']"
   ]
  },
  {
   "cell_type": "markdown",
   "metadata": {},
   "source": [
    "### Step 2: Commit using Py2Neo"
   ]
  },
  {
   "cell_type": "code",
   "execution_count": null,
   "metadata": {},
   "outputs": [],
   "source": [
    "tx = graph.begin()\n",
    "tx.create(TheMatrix)\n",
    "tx.create(Keanu)\n",
    "tx.create(Carrie)\n",
    "tx.create(Laurence)\n",
    "tx.create(Hugo)\n",
    "tx.create(LillyW)\n",
    "tx.create(LanaW)\n",
    "tx.create(JoelS)\n",
    "tx.create(Emil)\n",
    "tx.create(KeanuTheMatrix)\n",
    "tx.create(CarrieTheMatrix)\n",
    "tx.create(LaurenceTheMatrix)\n",
    "tx.create(HugoTheMatrix)\n",
    "tx.create(LillyWTheMatrix)\n",
    "tx.create(LanaWTheMatrix)\n",
    "tx.create(JoelSTheMatrix)\n",
    "tx.create(EmilTheMatrix)\n",
    "tx.commit()"
   ]
  },
  {
   "cell_type": "markdown",
   "metadata": {},
   "source": [
    "## Find"
   ]
  },
  {
   "cell_type": "code",
   "metadata": {},
   "outputs": [
    {
     "data": {
      "text/plain": [
       "Node('Person', born=1964, name='Keanu Reeves')"
      ]
     },
     "metadata": {},
     "output_type": "execute_result"
    }
   ],
   "source": [
    "from py2neo.matching import NodeMatcher\n",
    "node_matcher = NodeMatcher(graph)\n",
    "keanu = node_matcher.match(\"Person\", name=\"Keanu Reeves\").first()\n",
    "keanu"
   ]
  },
  {
   "cell_type": "code",
   "metadata": {},
   "outputs": [],
   "source": []
  },
  {
   "cell_type": "code",
   "metadata": {},
   "outputs": [
    {
     "data": {
      "text/plain": [
       "True"
      ]
     },
     "metadata": {},
     "output_type": "execute_result"
    }
   ],
   "source": [
    "keanu0 = graph.nodes[1]\n",
    "keanu1 = graph.nodes.get(1)\n",
    "keanu2 = graph.nodes.match(\"Person\", name=\"Keanu Reeves\").first()\n",
    "    \n",
    "keanu0 == keanu1 == keanu2"
   ]
  },
  {
   "cell_type": "code",
   "metadata": {},
   "outputs": [],
   "source": []
  },
  {
   "cell_type": "code",
   "metadata": {},
   "outputs": [
    {
     "data": {
      "text/plain": [
       "Node('Person', born=1964, name='Keanu Reeves')"
      ]
     },
     "metadata": {},
     "output_type": "execute_result"
    }
   ],
   "source": []
  },
  {
   "cell_type": "code",
   "metadata": {},
   "outputs": [
    {
     "name": "stdout",
     "output_type": "stream",
     "text": [
      "True\n"
     ]
    }
   ],
   "source": [
    "match_using_matcher = node_matcher.match(name=\"Keanu Reeves\").first()\n",
    "match_using_graphnodes = graph.nodes.match(name=\"Keanu Reeves\").first()\n",
    "\n",
    "assert match_using_matcher == match_using_graphnodes\n",
    "print(match_using_matcher == match_using_graphnodes)"
   ]
  },
  {
   "cell_type": "code",
   "metadata": {},
   "outputs": [
    {
     "data": {
      "text/plain": [
       "145"
      ]
     },
     "metadata": {},
     "output_type": "execute_result"
    }
   ],
   "source": [
    "len(graph.nodes.match(\"Person\"))"
   ]
  },
  {
   "cell_type": "markdown",
   "metadata": {},
   "source": [
    "#### Find the actor named \"Tom Hanks\"..."
   ]
  },
  {
   "cell_type": "code",
   "metadata": {},
   "outputs": [
    {
     "data": {
      "text/plain": [
       "Node('Person', born=1956, name='Tom Hanks')"
      ]
     },
     "metadata": {},
     "output_type": "execute_result"
    }
   ],
   "source": [
    "node_matcher.match(name=\"Tom Hanks\").first()"
   ]
  },
  {
   "cell_type": "code",
   "metadata": {},
   "outputs": [
    {
     "data": {
      "text/plain": [
       "Node('Person', born=1956, name='Tom Hanks')"
      ]
     },
     "metadata": {},
     "output_type": "execute_result"
    }
   ],
   "source": [
    "graph.nodes.match(name=\"Tom Hanks\").first()"
   ]
  },
  {
   "cell_type": "markdown",
   "metadata": {},
   "source": [
    "#### Find the movie with title \"Cloud Atlas\"..."
   ]
  },
  {
   "cell_type": "code",
   "metadata": {},
   "outputs": [
    {
     "data": {
      "text/plain": [
       "Node('Movie', released=2012, tagline='Everything is connected', title='Cloud Atlas')"
      ]
     },
     "metadata": {},
     "output_type": "execute_result"
    }
   ],
   "source": [
    "node_matcher.match(title=\"Cloud Atlas\").first()"
   ]
  },
  {
   "cell_type": "code",
   "metadata": {},
   "outputs": [],
   "source": [
    "graph.nodes.match(title=\"Cloud Atlas\").first()"
   ]
  },
  {
   "cell_type": "markdown",
   "metadata": {},
   "source": [
    "#### Find 10 people..."
   ]
  },
  {
   "cell_type": "code",
   "metadata": {},
   "outputs": [],
   "source": [
    "node_matcher.match(\"Person\").limit(10).all()"
   ]
  },
  {
   "cell_type": "code",
   "metadata": {},
   "outputs": [],
   "source": [
    "graph.nodes.match(\"Person\").limit(10).all()"
   ]
  },
  {
   "cell_type": "markdown",
   "metadata": {},
   "source": [
    "#### Find movies released in the 1990s..."
   ]
  },
  {
   "cell_type": "code",
   "metadata": {},
   "outputs": [
    {
     "data": {
      "text/plain": [
       "[Node('Movie', released=1999, tagline='Welcome to the Real World', title='The Matrix'),\n",
       " Node('Movie', released=1999, tagline='Welcome to the Real World', title='The Matrix'),\n",
       " Node('Movie', released=1992, tagline=\"In the heart of the nation's capital, in a courthouse of the U.S. government, one man will stop at nothing to keep his honor, and one will stop at nothing to find the truth.\", title='A Few Good Men'),\n",
       " Node('Movie', released=1992, tagline='Once in a lifetime you get a chance to do something different.', title='A League of Their Own'),\n",
       " Node('Movie', released=1995, tagline='Houston, we have a problem.', title='Apollo 13'),\n",
       " Node('Movie', released=1997, tagline='A comedy from the heart that goes for the throat.', title='As Good as It Gets'),\n",
       " Node('Movie', released=1999, tagline=\"One robot's 200 year journey to become an ordinary man.\", title='Bicentennial Man'),\n",
       " Node('Movie', released=1992, tagline=\"He didn't want law. He wanted justice.\", title='Hoffa'),\n",
       " Node('Movie', released=1990, tagline='A story of love, lava and burning desire.', title='Joe Versus the Volcano'),\n",
       " Node('Movie', released=1995, tagline='The hottest data on earth. In the coolest head in town', title='Johnny Mnemonic'),\n",
       " Node('Movie', released=1993, tagline='What if someone you never met, someone you never saw, someone you never knew was the only someone for you?', title='Sleepless in Seattle'),\n",
       " Node('Movie', released=1999, tagline='First loves last. Forever.', title='Snow Falling on Cedars'),\n",
       " Node('Movie', released=1996, tagline='In every life there comes a time when that thing you dream becomes that thing you do', title='That Thing You Do'),\n",
       " Node('Movie', released=1996, tagline='Come as you are', title='The Birdcage'),\n",
       " Node('Movie', released=1997, tagline='Evil has its winning ways', title=\"The Devil's Advocate\"),\n",
       " Node('Movie', released=1999, tagline=\"Walk a mile you'll never forget.\", title='The Green Mile'),\n",
       " Node('Movie', released=1999, tagline='Welcome to the Real World', title='The Matrix'),\n",
       " Node('Movie', released=1996, tagline=\"Don't Breathe. Don't Look Back.\", title='Twister'),\n",
       " Node('Movie', released=1992, tagline=\"It's a hell of a thing, killing a man\", title='Unforgiven'),\n",
       " Node('Movie', released=1998, tagline='After life there is more. The end is just the beginning.', title='What Dreams May Come'),\n",
       " Node('Movie', released=1998, tagline='At odds in life... in love on-line.', title='When Harry Met Sally'),\n",
       " Node('Movie', released=1998, tagline='At odds in life... in love on-line.', title=\"You've Got Mail\")]"
      ]
     },
     "metadata": {},
     "output_type": "execute_result"
    }
   ],
   "source": [
    "graph.nodes.match(\"Movie\").where('_.released >= 1990', '_.released < 2000').all()"
   ]
  },
  {
   "cell_type": "code",
   "metadata": {},
   "outputs": [],
   "source": []
  },
  {
   "cell_type": "code",
   "metadata": {},
   "outputs": [],
   "source": []
  },
  {
   "cell_type": "code",
   "metadata": {},
   "outputs": [],
   "source": []
  },
  {
   "cell_type": "markdown",
   "metadata": {},
   "source": [
    "#### Full Movie Graph Create"
   ]
  },
  {
   "cell_type": "code",
   "metadata": {},
   "outputs": [],
   "source": [
   ]
  }
 ],
 "metadata": {
  "kernelspec": {
   "display_name": "Python 3",
   "language": "python",
   "name": "python3"
  },
  "language_info": {
   "codemirror_mode": {
    "name": "ipython",
    "version": 3
   },
   "file_extension": ".py",
   "mimetype": "text/x-python",
   "name": "python",
   "nbconvert_exporter": "python",
   "pygments_lexer": "ipython3",
   "version": "3.7.5"
  }
 },
 "nbformat": 4,
 "nbformat_minor": 2
}
